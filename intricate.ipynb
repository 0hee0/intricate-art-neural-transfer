{
 "cells": [
  {
   "cell_type": "markdown",
   "metadata": {},
   "source": [
    "# Creating Intricate Art with Neural Style Transfer\n",
    "\n",
    "In order to run the python program, the following arguments are required:\n",
    "\n",
    "* content image (found in silhouettes folder)\n",
    "* style image (found in style folder)\n",
    "* path to save the output\n",
    "\n",
    "Let's try it out!"
   ]
  },
  {
   "cell_type": "code",
   "execution_count": null,
   "metadata": {},
   "outputs": [],
   "source": [
    "!python intricate_style.py silhouettes/unicorn.jpg style/color_pattern3.jpg results/unicorn_color_pattern"
   ]
  },
  {
   "cell_type": "markdown",
   "metadata": {},
   "source": [
    "### GPU-powered mode\n",
    "\n",
    "Or, to make things go a little faster, we can run a GPU-powered training job on FloydHub from this workspace:"
   ]
  },
  {
   "cell_type": "code",
   "execution_count": null,
   "metadata": {},
   "outputs": [],
   "source": [
    "!floyd run --gpu \"python intricate_style.py silhouettes/unicorn.jpg style/color_pattern3.jpg results/unicorn_color_pattern\""
   ]
  }
 ],
 "metadata": {
  "kernelspec": {
   "display_name": "Python 3",
   "language": "python",
   "name": "python3"
  },
  "language_info": {
   "codemirror_mode": {
    "name": "ipython",
    "version": 3
   },
   "file_extension": ".py",
   "mimetype": "text/x-python",
   "name": "python",
   "nbconvert_exporter": "python",
   "pygments_lexer": "ipython3",
   "version": "3.6.5"
  }
 },
 "nbformat": 4,
 "nbformat_minor": 2
}
