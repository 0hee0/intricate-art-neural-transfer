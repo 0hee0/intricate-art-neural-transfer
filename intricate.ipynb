{
 "cells": [
  {
   "cell_type": "markdown",
   "metadata": {},
   "source": [
    "Let's kick off a GPU-powered training job on FloydHub from this workspace:"
   ]
  },
  {
   "cell_type": "code",
   "execution_count": 3,
   "metadata": {},
   "outputs": [
    {
     "name": "stdout",
     "output_type": "stream",
     "text": [
      "Creating project run. Total upload size: 13.8MiB\n",
      "Syncing code ...\n",
      "[================================] 14484724/14484724 - 00:00:05\n",
      "\n",
      "JOB NAME\n",
      "--------------------------------------------------\n",
      "whatrocks/projects/intricate-art-neural-transfer/4\n",
      "\n",
      "URL to job: https://www.floydhub.com/whatrocks/projects/intricate-art-neural-transfer/4\n",
      "\n",
      "To view logs enter:\n",
      "   floyd logs whatrocks/projects/intricate-art-neural-transfer/4\n"
     ]
    }
   ],
   "source": [
    "!floyd run --gpu \"python intricate_style.py silhouettes/unicorn.jpg style/color_pattern3.jpg results/unicorn_color_pattern\""
   ]
  }
 ],
 "metadata": {
  "kernelspec": {
   "display_name": "Python 3",
   "language": "python",
   "name": "python3"
  },
  "language_info": {
   "codemirror_mode": {
    "name": "ipython",
    "version": 3
   },
   "file_extension": ".py",
   "mimetype": "text/x-python",
   "name": "python",
   "nbconvert_exporter": "python",
   "pygments_lexer": "ipython3",
   "version": "3.6.5"
  }
 },
 "nbformat": 4,
 "nbformat_minor": 2
}
